{
 "cells": [
  {
   "cell_type": "code",
   "execution_count": 5,
   "metadata": {
    "collapsed": true
   },
   "outputs": [],
   "source": [
    "import pandas as pd\n",
    "import numpy as np"
   ]
  },
  {
   "cell_type": "markdown",
   "metadata": {},
   "source": [
    "### Read the files into data frames"
   ]
  },
  {
   "cell_type": "code",
   "execution_count": 6,
   "metadata": {
    "collapsed": false
   },
   "outputs": [],
   "source": [
    "df1 = pd.read_csv(\"movie.box_office.txt\", sep=\"\\t\", header=None, names=['movie_id', 'boxoffice_hit'])\n",
    "df2 = pd.read_csv(\"movie.features.txt\", sep=\"\\t\", header=None, names=['Feature', 'value', 'movie_id'])"
   ]
  },
  {
   "cell_type": "markdown",
   "metadata": {},
   "source": [
    "### Create a feature \"is_john_goodman\" that is 1 if John Goodman stars in the movie else 0"
   ]
  },
  {
   "cell_type": "code",
   "execution_count": 7,
   "metadata": {
    "collapsed": false
   },
   "outputs": [],
   "source": [
    "df2['is_john_goodman'] = df2['Feature'] == 'John_Goodman'\n",
    "df2['is_john_goodman'] = df2['is_john_goodman'].astype(int)"
   ]
  },
  {
   "cell_type": "markdown",
   "metadata": {},
   "source": [
    "### Remove extra columns, drop duplicates and merge the two dataframes with\"is_john_goodman\" feature and \"boxoffice_hits\""
   ]
  },
  {
   "cell_type": "code",
   "execution_count": 8,
   "metadata": {
    "collapsed": false
   },
   "outputs": [],
   "source": [
    "df = df2[['movie_id', 'is_john_goodman']]\n",
    "df_orig = df.drop_duplicates()\n",
    "df_final = df_orig.merge(df1, how='inner', left_on='movie_id', right_on='movie_id')"
   ]
  },
  {
   "cell_type": "markdown",
   "metadata": {},
   "source": [
    "### Create the two lists to be passed to the monte carlo permutation test"
   ]
  },
  {
   "cell_type": "code",
   "execution_count": 9,
   "metadata": {
    "collapsed": false
   },
   "outputs": [],
   "source": [
    "# List of box office hit value for all movies that star John Goodman\n",
    "x = df_final[df_final['is_john_goodman']==1]['boxoffice_hit'].values.tolist()\n",
    "# List of box office hit value for all movies that do not star John Goodman\n",
    "y = df_final[df_final['is_john_goodman']==0]['boxoffice_hit'].values.tolist()\n",
    "#Number of times the lables are shuffled\n",
    "loop = 10000"
   ]
  },
  {
   "cell_type": "markdown",
   "metadata": {},
   "source": [
    "### Define the Monte Carlo Permutation test function"
   ]
  },
  {
   "cell_type": "code",
   "execution_count": 13,
   "metadata": {
    "collapsed": true
   },
   "outputs": [],
   "source": [
    "def monte_calrlo_perm_test(x, y, loop):\n",
    "    n = len(x)\n",
    "    k = 0\n",
    "    diff = np.abs(np.mean(x) - np.mean(y))\n",
    "    total = np.concatenate([x, y])\n",
    "    for j in range(loop):\n",
    "        np.random.shuffle(total)\n",
    "        k += diff < np.abs(np.mean(total[:n]) - np.mean(total[n:]))\n",
    "    return k / loop"
   ]
  },
  {
   "cell_type": "code",
   "execution_count": 16,
   "metadata": {
    "collapsed": false
   },
   "outputs": [],
   "source": [
    "def monte_calrlo_perm_test(x, y, loop):\n",
    "    n = len(x)\n",
    "    k = 0\n",
    "    diff = (np.mean(x) - np.mean(y))\n",
    "    total = np.concatenate([x, y])\n",
    "    for j in range(loop):\n",
    "        np.random.shuffle(total)\n",
    "        k += diff < (np.mean(total[:n]) - np.mean(total[n:]))\n",
    "    return k / loop"
   ]
  },
  {
   "cell_type": "markdown",
   "metadata": {},
   "source": [
    "### Execute the function with the values derived"
   ]
  },
  {
   "cell_type": "code",
   "execution_count": 17,
   "metadata": {
    "collapsed": false
   },
   "outputs": [
    {
     "data": {
      "text/plain": [
       "0.0025000000000000001"
      ]
     },
     "execution_count": 17,
     "metadata": {},
     "output_type": "execute_result"
    }
   ],
   "source": [
    "monte_calrlo_perm_test(x, y, loop)"
   ]
  },
  {
   "cell_type": "markdown",
   "metadata": {},
   "source": [
    "### Results"
   ]
  },
  {
   "cell_type": "markdown",
   "metadata": {},
   "source": [
    "Yes we can reject the Null hypothesis that \"that movies featuring John Goodman have the same proportion of box office hits as those that do not\" with a significance level of alpha = .01 because the p value that we get after running the monte carlo permutation tets os .0046.\n",
    "\n"
   ]
  },
  {
   "cell_type": "code",
   "execution_count": null,
   "metadata": {
    "collapsed": true
   },
   "outputs": [],
   "source": []
  }
 ],
 "metadata": {
  "kernelspec": {
   "display_name": "Python 3",
   "language": "python",
   "name": "python3"
  },
  "language_info": {
   "codemirror_mode": {
    "name": "ipython",
    "version": 3
   },
   "file_extension": ".py",
   "mimetype": "text/x-python",
   "name": "python",
   "nbconvert_exporter": "python",
   "pygments_lexer": "ipython3",
   "version": "3.5.1"
  }
 },
 "nbformat": 4,
 "nbformat_minor": 0
}
