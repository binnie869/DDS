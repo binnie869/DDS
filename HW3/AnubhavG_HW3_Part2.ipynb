{
 "cells": [
  {
   "cell_type": "code",
   "execution_count": 13,
   "metadata": {
    "collapsed": true
   },
   "outputs": [],
   "source": [
    "import pandas as pd\n",
    "import numpy as np\n",
    "import csv\n",
    "import math\n",
    "import operator"
   ]
  },
  {
   "cell_type": "markdown",
   "metadata": {},
   "source": [
    "## Read file into a dataframe"
   ]
  },
  {
   "cell_type": "code",
   "execution_count": 14,
   "metadata": {
    "collapsed": false
   },
   "outputs": [],
   "source": [
    "df = pd.read_csv(\"logreg_coefficients.txt\", sep=\"\\t\", header=None, names=['word', 'value'], \\\n",
    "                                                 error_bad_lines = False, quoting=csv.QUOTE_NONE)"
   ]
  },
  {
   "cell_type": "code",
   "execution_count": 15,
   "metadata": {
    "collapsed": false
   },
   "outputs": [],
   "source": [
    "word_dict = df.set_index('word').T.to_dict('list')\n",
    "word_list = df.word.values"
   ]
  },
  {
   "cell_type": "code",
   "execution_count": 16,
   "metadata": {
    "collapsed": false
   },
   "outputs": [],
   "source": [
    "with open(\"test_movies.txt\") as f:\n",
    "    text = f.read()\n",
    "    \n",
    "input_list = text.strip().split(\"\\n\")"
   ]
  },
  {
   "cell_type": "code",
   "execution_count": 17,
   "metadata": {
    "collapsed": false
   },
   "outputs": [],
   "source": [
    "common_words = []\n",
    "for i in range(10):\n",
    "    temp = []\n",
    "    for word in input_list[i].split():\n",
    "        if word in word_list:\n",
    "            temp.append(word)\n",
    "    common_words.append(temp)"
   ]
  },
  {
   "cell_type": "code",
   "execution_count": 18,
   "metadata": {
    "collapsed": false
   },
   "outputs": [],
   "source": [
    "def prob(x):\n",
    "    total = 0\n",
    "    for word in x:\n",
    "        total+= word_dict[word][0]\n",
    "    temp = math.exp(total)/(1+math.exp(total))\n",
    "    if temp >= 0.5:\n",
    "        y = 1\n",
    "    else:\n",
    "        y = 0\n",
    "    with open(\"README\", \"a\") as f:\n",
    "        s = \"probablilty is {0} and Y value is {1}\".format(temp, y)\n",
    "        f.write(s)\n",
    "        f.write(\"\\n**************************\\n\")\n",
    "    return y"
   ]
  },
  {
   "cell_type": "code",
   "execution_count": 19,
   "metadata": {
    "collapsed": false
   },
   "outputs": [
    {
     "name": "stdout",
     "output_type": "stream",
     "text": [
      "for data point 0\n",
      "for data point 1\n",
      "for data point 2\n",
      "for data point 3\n",
      "for data point 4\n",
      "for data point 5\n",
      "for data point 6\n",
      "for data point 7\n",
      "for data point 8\n",
      "for data point 9\n"
     ]
    }
   ],
   "source": [
    "y_values = []\n",
    "for i in range(10):\n",
    "    print(\"for data point %d\" %(i))\n",
    "    y_values.append(prob(set(common_words[i])))"
   ]
  },
  {
   "cell_type": "code",
   "execution_count": 20,
   "metadata": {
    "collapsed": false
   },
   "outputs": [
    {
     "data": {
      "text/plain": [
       "[1, 0, 0, 0, 1, 0, 0, 1, 1, 1]"
      ]
     },
     "execution_count": 20,
     "metadata": {},
     "output_type": "execute_result"
    }
   ],
   "source": [
    "y_values"
   ]
  },
  {
   "cell_type": "markdown",
   "metadata": {},
   "source": [
    "## Evidence counterfactual"
   ]
  },
  {
   "cell_type": "code",
   "execution_count": 21,
   "metadata": {
    "collapsed": false
   },
   "outputs": [],
   "source": [
    "def get_minimal_set(i, y):\n",
    "    common_words_dict = {}\n",
    "    for key in word_dict.keys():\n",
    "        if key in common_words[i]:\n",
    "            common_words_dict[key] = word_dict[key][0]\n",
    "    if (y == 1):        \n",
    "        sorted_x = sorted(common_words_dict.items(), key=operator.itemgetter(1), reverse=True)\n",
    "    else:\n",
    "        sorted_x = sorted(common_words_dict.items(), key=operator.itemgetter(1))\n",
    "    minimal_set = []\n",
    "    reduced_set = list(set(common_words[i]))\n",
    "    count = 0\n",
    "    temp = y\n",
    "    while temp == y:\n",
    "        reduced_set.remove(sorted_x[count][0])\n",
    "        minimal_set.append(sorted_x[count][0])\n",
    "        count+=1\n",
    "        total=0\n",
    "        for word in set(reduced_set):\n",
    "            total+= word_dict[word][0]\n",
    "        temp = round(math.exp(total)/(1+math.exp(total)))\n",
    "    return minimal_set"
   ]
  },
  {
   "cell_type": "code",
   "execution_count": 22,
   "metadata": {
    "collapsed": false
   },
   "outputs": [],
   "source": [
    "with open(\"README\", \"a\") as f:\n",
    "    for i in range(10):\n",
    "        min_set = get_minimal_set(i, y_values[i])\n",
    "        s = \"for data point {}\\nthe evidence counterfactual is {}\".format(i, min_set)\n",
    "        f.write(s)\n",
    "        f.write(\"\\n**************************\\n\")"
   ]
  },
  {
   "cell_type": "code",
   "execution_count": null,
   "metadata": {
    "collapsed": true
   },
   "outputs": [],
   "source": []
  }
 ],
 "metadata": {
  "kernelspec": {
   "display_name": "Python 3",
   "language": "python",
   "name": "python3"
  },
  "language_info": {
   "codemirror_mode": {
    "name": "ipython",
    "version": 3
   },
   "file_extension": ".py",
   "mimetype": "text/x-python",
   "name": "python",
   "nbconvert_exporter": "python",
   "pygments_lexer": "ipython3",
   "version": "3.5.1"
  }
 },
 "nbformat": 4,
 "nbformat_minor": 0
}
